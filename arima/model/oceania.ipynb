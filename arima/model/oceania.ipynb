{
 "cells": [
  {
   "cell_type": "code",
   "execution_count": 25,
   "metadata": {},
   "outputs": [],
   "source": [
    "import json\n",
    "\n",
    "import math\n",
    "import pandas as pd \n",
    "from statsmodels.tsa.arima.model import ARIMA\n",
    "from sklearn.metrics import mean_squared_error, mean_absolute_error\n",
    "from tqdm.notebook import trange"
   ]
  },
  {
   "cell_type": "code",
   "execution_count": 26,
   "metadata": {},
   "outputs": [],
   "source": [
    "ori_df = pd.read_csv('https://raw.githubusercontent.com/owid/covid-19-data/master/public/data/owid-covid-data.csv',encoding='unicode-escape')"
   ]
  },
  {
   "cell_type": "code",
   "execution_count": 27,
   "metadata": {},
   "outputs": [],
   "source": [
    "df = ori_df[['location','total_deaths','date']].copy()"
   ]
  },
  {
   "cell_type": "code",
   "execution_count": 28,
   "metadata": {},
   "outputs": [
    {
     "data": {
      "text/plain": [
       "<bound method NDFrame.head of            location  total_deaths        date\n",
       "0       Afghanistan           0.0  2020-01-05\n",
       "1       Afghanistan           0.0  2020-01-06\n",
       "2       Afghanistan           0.0  2020-01-07\n",
       "3       Afghanistan           0.0  2020-01-08\n",
       "4       Afghanistan           0.0  2020-01-09\n",
       "...             ...           ...         ...\n",
       "401003     Zimbabwe        5740.0  2024-05-08\n",
       "401004     Zimbabwe        5740.0  2024-05-09\n",
       "401005     Zimbabwe        5740.0  2024-05-10\n",
       "401006     Zimbabwe        5740.0  2024-05-11\n",
       "401007     Zimbabwe        5740.0  2024-05-12\n",
       "\n",
       "[401008 rows x 3 columns]>"
      ]
     },
     "execution_count": 28,
     "metadata": {},
     "output_type": "execute_result"
    }
   ],
   "source": [
    "df[\"total_deaths\"] = df[\"total_deaths\"].fillna(0)\n",
    "df.head"
   ]
  },
  {
   "cell_type": "code",
   "execution_count": 29,
   "metadata": {},
   "outputs": [],
   "source": [
    "asia=df.loc[df['location'] == 'Asia']\n",
    "africa=df.loc[df['location'] == 'Africa']\n",
    "europe=df.loc[df['location'] == 'Europe']\n",
    "north_america=df.loc[df['location'] == 'North America']\n",
    "oceania=df.loc[df['location'] == 'Oceania'].reset_index()\n",
    "south_America=df.loc[df['location'] == 'South America']"
   ]
  },
  {
   "cell_type": "code",
   "execution_count": 30,
   "metadata": {},
   "outputs": [],
   "source": [
    "new_df=pd.concat([asia,africa,europe,oceania,north_america,south_America]).reset_index().drop(columns='index')"
   ]
  },
  {
   "cell_type": "code",
   "execution_count": 31,
   "metadata": {},
   "outputs": [
    {
     "data": {
      "text/html": [
       "<div>\n",
       "<style scoped>\n",
       "    .dataframe tbody tr th:only-of-type {\n",
       "        vertical-align: middle;\n",
       "    }\n",
       "\n",
       "    .dataframe tbody tr th {\n",
       "        vertical-align: top;\n",
       "    }\n",
       "\n",
       "    .dataframe thead th {\n",
       "        text-align: right;\n",
       "    }\n",
       "</style>\n",
       "<table border=\"1\" class=\"dataframe\">\n",
       "  <thead>\n",
       "    <tr style=\"text-align: right;\">\n",
       "      <th></th>\n",
       "      <th>level_0</th>\n",
       "      <th>location</th>\n",
       "      <th>total_deaths</th>\n",
       "      <th>date</th>\n",
       "    </tr>\n",
       "  </thead>\n",
       "  <tbody>\n",
       "    <tr>\n",
       "      <th>9575</th>\n",
       "      <td>334829</td>\n",
       "      <td>South America</td>\n",
       "      <td>1354147.0</td>\n",
       "      <td>2024-05-08</td>\n",
       "    </tr>\n",
       "    <tr>\n",
       "      <th>9576</th>\n",
       "      <td>334830</td>\n",
       "      <td>South America</td>\n",
       "      <td>1354147.0</td>\n",
       "      <td>2024-05-09</td>\n",
       "    </tr>\n",
       "    <tr>\n",
       "      <th>9577</th>\n",
       "      <td>334831</td>\n",
       "      <td>South America</td>\n",
       "      <td>1354147.0</td>\n",
       "      <td>2024-05-10</td>\n",
       "    </tr>\n",
       "    <tr>\n",
       "      <th>9578</th>\n",
       "      <td>334832</td>\n",
       "      <td>South America</td>\n",
       "      <td>1354147.0</td>\n",
       "      <td>2024-05-11</td>\n",
       "    </tr>\n",
       "    <tr>\n",
       "      <th>9579</th>\n",
       "      <td>334833</td>\n",
       "      <td>South America</td>\n",
       "      <td>1354153.0</td>\n",
       "      <td>2024-05-12</td>\n",
       "    </tr>\n",
       "  </tbody>\n",
       "</table>\n",
       "</div>"
      ],
      "text/plain": [
       "      level_0       location  total_deaths        date\n",
       "9575   334829  South America     1354147.0  2024-05-08\n",
       "9576   334830  South America     1354147.0  2024-05-09\n",
       "9577   334831  South America     1354147.0  2024-05-10\n",
       "9578   334832  South America     1354147.0  2024-05-11\n",
       "9579   334833  South America     1354153.0  2024-05-12"
      ]
     },
     "execution_count": 31,
     "metadata": {},
     "output_type": "execute_result"
    }
   ],
   "source": [
    "new_df.tail()"
   ]
  },
  {
   "cell_type": "code",
   "execution_count": 32,
   "metadata": {},
   "outputs": [
    {
     "data": {
      "text/plain": [
       "0       2020-01-05\n",
       "1       2020-01-06\n",
       "2       2020-01-07\n",
       "3       2020-01-08\n",
       "4       2020-01-09\n",
       "           ...    \n",
       "9575    2024-05-08\n",
       "9576    2024-05-09\n",
       "9577    2024-05-10\n",
       "9578    2024-05-11\n",
       "9579    2024-05-12\n",
       "Name: date, Length: 9580, dtype: object"
      ]
     },
     "execution_count": 32,
     "metadata": {},
     "output_type": "execute_result"
    }
   ],
   "source": [
    "new_df['date']"
   ]
  },
  {
   "cell_type": "code",
   "execution_count": 33,
   "metadata": {},
   "outputs": [],
   "source": [
    "new_df['year']=pd.to_datetime(new_df['date']).dt.year\n",
    "new_df['month']=pd.to_datetime(new_df['date']).dt.month\n",
    "new_df['day']=pd.to_datetime(new_df['date']).dt.day"
   ]
  },
  {
   "cell_type": "code",
   "execution_count": 34,
   "metadata": {},
   "outputs": [],
   "source": [
    "oceania['date'] = pd.to_datetime(new_df['date'])\n",
    "dt_start = pd.to_datetime('2020-01-05')\n",
    "dt_end = pd.to_datetime('2024-04-28')\n",
    "oceania=oceania[oceania['date'].between(dt_start, dt_end)]\n"
   ]
  },
  {
   "cell_type": "code",
   "execution_count": 35,
   "metadata": {},
   "outputs": [
    {
     "data": {
      "text/html": [
       "<div>\n",
       "<style scoped>\n",
       "    .dataframe tbody tr th:only-of-type {\n",
       "        vertical-align: middle;\n",
       "    }\n",
       "\n",
       "    .dataframe tbody tr th {\n",
       "        vertical-align: top;\n",
       "    }\n",
       "\n",
       "    .dataframe thead th {\n",
       "        text-align: right;\n",
       "    }\n",
       "</style>\n",
       "<table border=\"1\" class=\"dataframe\">\n",
       "  <thead>\n",
       "    <tr style=\"text-align: right;\">\n",
       "      <th></th>\n",
       "      <th>index</th>\n",
       "      <th>location</th>\n",
       "      <th>total_deaths</th>\n",
       "      <th>date</th>\n",
       "    </tr>\n",
       "  </thead>\n",
       "  <tbody>\n",
       "    <tr>\n",
       "      <th>0</th>\n",
       "      <td>266744</td>\n",
       "      <td>Oceania</td>\n",
       "      <td>0.0</td>\n",
       "      <td>2020-01-05</td>\n",
       "    </tr>\n",
       "    <tr>\n",
       "      <th>1</th>\n",
       "      <td>266745</td>\n",
       "      <td>Oceania</td>\n",
       "      <td>0.0</td>\n",
       "      <td>2020-01-06</td>\n",
       "    </tr>\n",
       "    <tr>\n",
       "      <th>2</th>\n",
       "      <td>266746</td>\n",
       "      <td>Oceania</td>\n",
       "      <td>0.0</td>\n",
       "      <td>2020-01-07</td>\n",
       "    </tr>\n",
       "    <tr>\n",
       "      <th>3</th>\n",
       "      <td>266747</td>\n",
       "      <td>Oceania</td>\n",
       "      <td>0.0</td>\n",
       "      <td>2020-01-08</td>\n",
       "    </tr>\n",
       "    <tr>\n",
       "      <th>4</th>\n",
       "      <td>266748</td>\n",
       "      <td>Oceania</td>\n",
       "      <td>0.0</td>\n",
       "      <td>2020-01-09</td>\n",
       "    </tr>\n",
       "  </tbody>\n",
       "</table>\n",
       "</div>"
      ],
      "text/plain": [
       "    index location  total_deaths       date\n",
       "0  266744  Oceania           0.0 2020-01-05\n",
       "1  266745  Oceania           0.0 2020-01-06\n",
       "2  266746  Oceania           0.0 2020-01-07\n",
       "3  266747  Oceania           0.0 2020-01-08\n",
       "4  266748  Oceania           0.0 2020-01-09"
      ]
     },
     "execution_count": 35,
     "metadata": {},
     "output_type": "execute_result"
    }
   ],
   "source": [
    "oceania.head()"
   ]
  },
  {
   "cell_type": "code",
   "execution_count": 36,
   "metadata": {},
   "outputs": [
    {
     "data": {
      "text/html": [
       "<div>\n",
       "<style scoped>\n",
       "    .dataframe tbody tr th:only-of-type {\n",
       "        vertical-align: middle;\n",
       "    }\n",
       "\n",
       "    .dataframe tbody tr th {\n",
       "        vertical-align: top;\n",
       "    }\n",
       "\n",
       "    .dataframe thead th {\n",
       "        text-align: right;\n",
       "    }\n",
       "</style>\n",
       "<table border=\"1\" class=\"dataframe\">\n",
       "  <thead>\n",
       "    <tr style=\"text-align: right;\">\n",
       "      <th></th>\n",
       "      <th>index</th>\n",
       "      <th>location</th>\n",
       "      <th>total_deaths</th>\n",
       "      <th>date</th>\n",
       "      <th>total_deaths_processed</th>\n",
       "    </tr>\n",
       "  </thead>\n",
       "  <tbody>\n",
       "    <tr>\n",
       "      <th>0</th>\n",
       "      <td>266744</td>\n",
       "      <td>Oceania</td>\n",
       "      <td>0.0</td>\n",
       "      <td>2020-01-05</td>\n",
       "      <td>NaN</td>\n",
       "    </tr>\n",
       "    <tr>\n",
       "      <th>1</th>\n",
       "      <td>266745</td>\n",
       "      <td>Oceania</td>\n",
       "      <td>0.0</td>\n",
       "      <td>2020-01-06</td>\n",
       "      <td>0.0</td>\n",
       "    </tr>\n",
       "    <tr>\n",
       "      <th>2</th>\n",
       "      <td>266746</td>\n",
       "      <td>Oceania</td>\n",
       "      <td>0.0</td>\n",
       "      <td>2020-01-07</td>\n",
       "      <td>0.0</td>\n",
       "    </tr>\n",
       "    <tr>\n",
       "      <th>3</th>\n",
       "      <td>266747</td>\n",
       "      <td>Oceania</td>\n",
       "      <td>0.0</td>\n",
       "      <td>2020-01-08</td>\n",
       "      <td>0.0</td>\n",
       "    </tr>\n",
       "    <tr>\n",
       "      <th>4</th>\n",
       "      <td>266748</td>\n",
       "      <td>Oceania</td>\n",
       "      <td>0.0</td>\n",
       "      <td>2020-01-09</td>\n",
       "      <td>0.0</td>\n",
       "    </tr>\n",
       "  </tbody>\n",
       "</table>\n",
       "</div>"
      ],
      "text/plain": [
       "    index location  total_deaths       date  total_deaths_processed\n",
       "0  266744  Oceania           0.0 2020-01-05                     NaN\n",
       "1  266745  Oceania           0.0 2020-01-06                     0.0\n",
       "2  266746  Oceania           0.0 2020-01-07                     0.0\n",
       "3  266747  Oceania           0.0 2020-01-08                     0.0\n",
       "4  266748  Oceania           0.0 2020-01-09                     0.0"
      ]
     },
     "execution_count": 36,
     "metadata": {},
     "output_type": "execute_result"
    }
   ],
   "source": [
    "oceania.loc[:, 'total_deaths_processed'] = oceania['total_deaths'].diff(periods=1)\n",
    "\n",
    "oceania.head()"
   ]
  },
  {
   "cell_type": "code",
   "execution_count": 37,
   "metadata": {},
   "outputs": [
    {
     "data": {
      "text/html": [
       "<div>\n",
       "<style scoped>\n",
       "    .dataframe tbody tr th:only-of-type {\n",
       "        vertical-align: middle;\n",
       "    }\n",
       "\n",
       "    .dataframe tbody tr th {\n",
       "        vertical-align: top;\n",
       "    }\n",
       "\n",
       "    .dataframe thead th {\n",
       "        text-align: right;\n",
       "    }\n",
       "</style>\n",
       "<table border=\"1\" class=\"dataframe\">\n",
       "  <thead>\n",
       "    <tr style=\"text-align: right;\">\n",
       "      <th></th>\n",
       "      <th>total_deaths_processed</th>\n",
       "    </tr>\n",
       "  </thead>\n",
       "  <tbody>\n",
       "    <tr>\n",
       "      <th>0</th>\n",
       "      <td>0.0</td>\n",
       "    </tr>\n",
       "    <tr>\n",
       "      <th>1</th>\n",
       "      <td>0.0</td>\n",
       "    </tr>\n",
       "    <tr>\n",
       "      <th>2</th>\n",
       "      <td>0.0</td>\n",
       "    </tr>\n",
       "    <tr>\n",
       "      <th>3</th>\n",
       "      <td>0.0</td>\n",
       "    </tr>\n",
       "    <tr>\n",
       "      <th>4</th>\n",
       "      <td>0.0</td>\n",
       "    </tr>\n",
       "  </tbody>\n",
       "</table>\n",
       "</div>"
      ],
      "text/plain": [
       "   total_deaths_processed\n",
       "0                     0.0\n",
       "1                     0.0\n",
       "2                     0.0\n",
       "3                     0.0\n",
       "4                     0.0"
      ]
     },
     "execution_count": 37,
     "metadata": {},
     "output_type": "execute_result"
    }
   ],
   "source": [
    "history = oceania.iloc[1:]['total_deaths_processed']\\\n",
    "    .reset_index()\\\n",
    "    .drop(columns='index')\n",
    "\n",
    "history.head()"
   ]
  },
  {
   "cell_type": "markdown",
   "metadata": {},
   "source": [
    "## Start predicting "
   ]
  },
  {
   "cell_type": "code",
   "execution_count": 38,
   "metadata": {},
   "outputs": [],
   "source": [
    "period = 365"
   ]
  },
  {
   "cell_type": "code",
   "execution_count": 39,
   "metadata": {},
   "outputs": [
    {
     "data": {
      "text/plain": [
       "1575     7.022841\n",
       "1576     8.186763\n",
       "1577     9.544970\n",
       "1578    11.129195\n",
       "1579    12.976478\n",
       "          ...    \n",
       "1935    12.012430\n",
       "1936    12.012430\n",
       "1937    12.012430\n",
       "1938    12.012430\n",
       "1939    12.012430\n",
       "Name: predicted_mean, Length: 365, dtype: float64"
      ]
     },
     "execution_count": 39,
     "metadata": {},
     "output_type": "execute_result"
    }
   ],
   "source": [
    "## 1. Train model up until most current day\n",
    "model = ARIMA(history, order=(5,1,0))\n",
    "model_fit = model.fit()\n",
    "\n",
    "## 2. Predict in next 'period' days\n",
    "yhat = model_fit.forecast(period)\n",
    "\n",
    "yhat"
   ]
  },
  {
   "cell_type": "markdown",
   "metadata": {},
   "source": [
    "### Add predicted values back to dataframe"
   ]
  },
  {
   "cell_type": "code",
   "execution_count": 40,
   "metadata": {},
   "outputs": [
    {
     "data": {
      "text/plain": [
       "Timestamp('2024-04-28 00:00:00')"
      ]
     },
     "execution_count": 40,
     "metadata": {},
     "output_type": "execute_result"
    }
   ],
   "source": [
    "last_date = oceania['date'].tail(1).item()\n",
    "last_date"
   ]
  },
  {
   "cell_type": "code",
   "execution_count": 41,
   "metadata": {},
   "outputs": [
    {
     "data": {
      "text/html": [
       "<div>\n",
       "<style scoped>\n",
       "    .dataframe tbody tr th:only-of-type {\n",
       "        vertical-align: middle;\n",
       "    }\n",
       "\n",
       "    .dataframe tbody tr th {\n",
       "        vertical-align: top;\n",
       "    }\n",
       "\n",
       "    .dataframe thead th {\n",
       "        text-align: right;\n",
       "    }\n",
       "</style>\n",
       "<table border=\"1\" class=\"dataframe\">\n",
       "  <thead>\n",
       "    <tr style=\"text-align: right;\">\n",
       "      <th></th>\n",
       "      <th>location</th>\n",
       "      <th>total_deaths_processed</th>\n",
       "      <th>date</th>\n",
       "    </tr>\n",
       "  </thead>\n",
       "  <tbody>\n",
       "    <tr>\n",
       "      <th>0</th>\n",
       "      <td>Oceania</td>\n",
       "      <td>7.022841</td>\n",
       "      <td>2024-04-29</td>\n",
       "    </tr>\n",
       "    <tr>\n",
       "      <th>1</th>\n",
       "      <td>Oceania</td>\n",
       "      <td>8.186763</td>\n",
       "      <td>2024-04-30</td>\n",
       "    </tr>\n",
       "    <tr>\n",
       "      <th>2</th>\n",
       "      <td>Oceania</td>\n",
       "      <td>9.544970</td>\n",
       "      <td>2024-05-01</td>\n",
       "    </tr>\n",
       "    <tr>\n",
       "      <th>3</th>\n",
       "      <td>Oceania</td>\n",
       "      <td>11.129195</td>\n",
       "      <td>2024-05-02</td>\n",
       "    </tr>\n",
       "    <tr>\n",
       "      <th>4</th>\n",
       "      <td>Oceania</td>\n",
       "      <td>12.976478</td>\n",
       "      <td>2024-05-03</td>\n",
       "    </tr>\n",
       "  </tbody>\n",
       "</table>\n",
       "</div>"
      ],
      "text/plain": [
       "  location  total_deaths_processed       date\n",
       "0  Oceania                7.022841 2024-04-29\n",
       "1  Oceania                8.186763 2024-04-30\n",
       "2  Oceania                9.544970 2024-05-01\n",
       "3  Oceania               11.129195 2024-05-02\n",
       "4  Oceania               12.976478 2024-05-03"
      ]
     },
     "execution_count": 41,
     "metadata": {},
     "output_type": "execute_result"
    }
   ],
   "source": [
    "oceania_predicted = [\n",
    "    {\n",
    "        'location': 'Oceania',\n",
    "        'total_deaths_processed': x,\n",
    "        'date': pd.Timedelta(i + 1, 'd') + pd.to_datetime(last_date)\n",
    "    }\n",
    "    for i, x in enumerate(yhat)\n",
    "]\n",
    "df_oceania_pred = pd.DataFrame.from_records(oceania_predicted)\n",
    "df_oceania_pred.head()"
   ]
  },
  {
   "cell_type": "code",
   "execution_count": 42,
   "metadata": {},
   "outputs": [
    {
     "data": {
      "text/html": [
       "<div>\n",
       "<style scoped>\n",
       "    .dataframe tbody tr th:only-of-type {\n",
       "        vertical-align: middle;\n",
       "    }\n",
       "\n",
       "    .dataframe tbody tr th {\n",
       "        vertical-align: top;\n",
       "    }\n",
       "\n",
       "    .dataframe thead th {\n",
       "        text-align: right;\n",
       "    }\n",
       "</style>\n",
       "<table border=\"1\" class=\"dataframe\">\n",
       "  <thead>\n",
       "    <tr style=\"text-align: right;\">\n",
       "      <th></th>\n",
       "      <th>index</th>\n",
       "      <th>location</th>\n",
       "      <th>total_deaths</th>\n",
       "      <th>date</th>\n",
       "      <th>total_deaths_processed</th>\n",
       "    </tr>\n",
       "  </thead>\n",
       "  <tbody>\n",
       "    <tr>\n",
       "      <th>355</th>\n",
       "      <td>NaN</td>\n",
       "      <td>Oceania</td>\n",
       "      <td>NaN</td>\n",
       "      <td>2025-04-19</td>\n",
       "      <td>12.01243</td>\n",
       "    </tr>\n",
       "    <tr>\n",
       "      <th>356</th>\n",
       "      <td>NaN</td>\n",
       "      <td>Oceania</td>\n",
       "      <td>NaN</td>\n",
       "      <td>2025-04-20</td>\n",
       "      <td>12.01243</td>\n",
       "    </tr>\n",
       "    <tr>\n",
       "      <th>357</th>\n",
       "      <td>NaN</td>\n",
       "      <td>Oceania</td>\n",
       "      <td>NaN</td>\n",
       "      <td>2025-04-21</td>\n",
       "      <td>12.01243</td>\n",
       "    </tr>\n",
       "    <tr>\n",
       "      <th>358</th>\n",
       "      <td>NaN</td>\n",
       "      <td>Oceania</td>\n",
       "      <td>NaN</td>\n",
       "      <td>2025-04-22</td>\n",
       "      <td>12.01243</td>\n",
       "    </tr>\n",
       "    <tr>\n",
       "      <th>359</th>\n",
       "      <td>NaN</td>\n",
       "      <td>Oceania</td>\n",
       "      <td>NaN</td>\n",
       "      <td>2025-04-23</td>\n",
       "      <td>12.01243</td>\n",
       "    </tr>\n",
       "    <tr>\n",
       "      <th>360</th>\n",
       "      <td>NaN</td>\n",
       "      <td>Oceania</td>\n",
       "      <td>NaN</td>\n",
       "      <td>2025-04-24</td>\n",
       "      <td>12.01243</td>\n",
       "    </tr>\n",
       "    <tr>\n",
       "      <th>361</th>\n",
       "      <td>NaN</td>\n",
       "      <td>Oceania</td>\n",
       "      <td>NaN</td>\n",
       "      <td>2025-04-25</td>\n",
       "      <td>12.01243</td>\n",
       "    </tr>\n",
       "    <tr>\n",
       "      <th>362</th>\n",
       "      <td>NaN</td>\n",
       "      <td>Oceania</td>\n",
       "      <td>NaN</td>\n",
       "      <td>2025-04-26</td>\n",
       "      <td>12.01243</td>\n",
       "    </tr>\n",
       "    <tr>\n",
       "      <th>363</th>\n",
       "      <td>NaN</td>\n",
       "      <td>Oceania</td>\n",
       "      <td>NaN</td>\n",
       "      <td>2025-04-27</td>\n",
       "      <td>12.01243</td>\n",
       "    </tr>\n",
       "    <tr>\n",
       "      <th>364</th>\n",
       "      <td>NaN</td>\n",
       "      <td>Oceania</td>\n",
       "      <td>NaN</td>\n",
       "      <td>2025-04-28</td>\n",
       "      <td>12.01243</td>\n",
       "    </tr>\n",
       "  </tbody>\n",
       "</table>\n",
       "</div>"
      ],
      "text/plain": [
       "     index location  total_deaths        date  total_deaths_processed\n",
       "355    NaN  Oceania           NaN  2025-04-19                12.01243\n",
       "356    NaN  Oceania           NaN  2025-04-20                12.01243\n",
       "357    NaN  Oceania           NaN  2025-04-21                12.01243\n",
       "358    NaN  Oceania           NaN  2025-04-22                12.01243\n",
       "359    NaN  Oceania           NaN  2025-04-23                12.01243\n",
       "360    NaN  Oceania           NaN  2025-04-24                12.01243\n",
       "361    NaN  Oceania           NaN  2025-04-25                12.01243\n",
       "362    NaN  Oceania           NaN  2025-04-26                12.01243\n",
       "363    NaN  Oceania           NaN  2025-04-27                12.01243\n",
       "364    NaN  Oceania           NaN  2025-04-28                12.01243"
      ]
     },
     "execution_count": 42,
     "metadata": {},
     "output_type": "execute_result"
    }
   ],
   "source": [
    "df_oceania_new = pd.concat([oceania, df_oceania_pred])\n",
    "df_oceania_new[\"date\"]=pd.to_datetime(df_oceania_new[\"date\"]).dt.to_period(freq=\"D\")\n",
    "df_oceania_new.tail(10)"
   ]
  },
  {
   "cell_type": "code",
   "execution_count": 43,
   "metadata": {},
   "outputs": [],
   "source": [
    "total_death_begin = df_oceania_new.iloc[0]['total_deaths'].item()\n",
    "idx_begin = df_oceania_new.index[0]\n",
    "\n",
    "df_oceania_new.loc[idx_begin, 'total_deaths_processed'] = total_death_begin"
   ]
  },
  {
   "cell_type": "code",
   "execution_count": 44,
   "metadata": {},
   "outputs": [
    {
     "data": {
      "text/html": [
       "<div>\n",
       "<style scoped>\n",
       "    .dataframe tbody tr th:only-of-type {\n",
       "        vertical-align: middle;\n",
       "    }\n",
       "\n",
       "    .dataframe tbody tr th {\n",
       "        vertical-align: top;\n",
       "    }\n",
       "\n",
       "    .dataframe thead th {\n",
       "        text-align: right;\n",
       "    }\n",
       "</style>\n",
       "<table border=\"1\" class=\"dataframe\">\n",
       "  <thead>\n",
       "    <tr style=\"text-align: right;\">\n",
       "      <th></th>\n",
       "      <th>index</th>\n",
       "      <th>location</th>\n",
       "      <th>total_deaths</th>\n",
       "      <th>date</th>\n",
       "      <th>total_deaths_processed</th>\n",
       "    </tr>\n",
       "  </thead>\n",
       "  <tbody>\n",
       "    <tr>\n",
       "      <th>0</th>\n",
       "      <td>266744.0</td>\n",
       "      <td>Oceania</td>\n",
       "      <td>0</td>\n",
       "      <td>2020-01-05</td>\n",
       "      <td>0.0</td>\n",
       "    </tr>\n",
       "    <tr>\n",
       "      <th>1</th>\n",
       "      <td>266745.0</td>\n",
       "      <td>Oceania</td>\n",
       "      <td>0</td>\n",
       "      <td>2020-01-06</td>\n",
       "      <td>0.0</td>\n",
       "    </tr>\n",
       "    <tr>\n",
       "      <th>2</th>\n",
       "      <td>266746.0</td>\n",
       "      <td>Oceania</td>\n",
       "      <td>0</td>\n",
       "      <td>2020-01-07</td>\n",
       "      <td>0.0</td>\n",
       "    </tr>\n",
       "    <tr>\n",
       "      <th>3</th>\n",
       "      <td>266747.0</td>\n",
       "      <td>Oceania</td>\n",
       "      <td>0</td>\n",
       "      <td>2020-01-08</td>\n",
       "      <td>0.0</td>\n",
       "    </tr>\n",
       "    <tr>\n",
       "      <th>4</th>\n",
       "      <td>266748.0</td>\n",
       "      <td>Oceania</td>\n",
       "      <td>0</td>\n",
       "      <td>2020-01-09</td>\n",
       "      <td>0.0</td>\n",
       "    </tr>\n",
       "  </tbody>\n",
       "</table>\n",
       "</div>"
      ],
      "text/plain": [
       "      index location  total_deaths        date  total_deaths_processed\n",
       "0  266744.0  Oceania             0  2020-01-05                     0.0\n",
       "1  266745.0  Oceania             0  2020-01-06                     0.0\n",
       "2  266746.0  Oceania             0  2020-01-07                     0.0\n",
       "3  266747.0  Oceania             0  2020-01-08                     0.0\n",
       "4  266748.0  Oceania             0  2020-01-09                     0.0"
      ]
     },
     "execution_count": 44,
     "metadata": {},
     "output_type": "execute_result"
    }
   ],
   "source": [
    "df_oceania_new.loc[:, 'total_deaths'] = df_oceania_new['total_deaths_processed'].cumsum()\n",
    "df_oceania_new['total_deaths'] = df_oceania_new['total_deaths'].astype(int)\n",
    "df_oceania_new.head()"
   ]
  },
  {
   "cell_type": "code",
   "execution_count": 45,
   "metadata": {},
   "outputs": [
    {
     "data": {
      "text/html": [
       "<div>\n",
       "<style scoped>\n",
       "    .dataframe tbody tr th:only-of-type {\n",
       "        vertical-align: middle;\n",
       "    }\n",
       "\n",
       "    .dataframe tbody tr th {\n",
       "        vertical-align: top;\n",
       "    }\n",
       "\n",
       "    .dataframe thead th {\n",
       "        text-align: right;\n",
       "    }\n",
       "</style>\n",
       "<table border=\"1\" class=\"dataframe\">\n",
       "  <thead>\n",
       "    <tr style=\"text-align: right;\">\n",
       "      <th></th>\n",
       "      <th>index</th>\n",
       "      <th>location</th>\n",
       "      <th>total_deaths</th>\n",
       "      <th>date</th>\n",
       "      <th>total_deaths_processed</th>\n",
       "      <th>year</th>\n",
       "      <th>month</th>\n",
       "      <th>day</th>\n",
       "    </tr>\n",
       "  </thead>\n",
       "  <tbody>\n",
       "    <tr>\n",
       "      <th>0</th>\n",
       "      <td>266744.0</td>\n",
       "      <td>Oceania</td>\n",
       "      <td>0</td>\n",
       "      <td>2020-01-05</td>\n",
       "      <td>0.0</td>\n",
       "      <td>2020</td>\n",
       "      <td>1</td>\n",
       "      <td>5</td>\n",
       "    </tr>\n",
       "    <tr>\n",
       "      <th>1</th>\n",
       "      <td>266745.0</td>\n",
       "      <td>Oceania</td>\n",
       "      <td>0</td>\n",
       "      <td>2020-01-06</td>\n",
       "      <td>0.0</td>\n",
       "      <td>2020</td>\n",
       "      <td>1</td>\n",
       "      <td>6</td>\n",
       "    </tr>\n",
       "    <tr>\n",
       "      <th>2</th>\n",
       "      <td>266746.0</td>\n",
       "      <td>Oceania</td>\n",
       "      <td>0</td>\n",
       "      <td>2020-01-07</td>\n",
       "      <td>0.0</td>\n",
       "      <td>2020</td>\n",
       "      <td>1</td>\n",
       "      <td>7</td>\n",
       "    </tr>\n",
       "    <tr>\n",
       "      <th>3</th>\n",
       "      <td>266747.0</td>\n",
       "      <td>Oceania</td>\n",
       "      <td>0</td>\n",
       "      <td>2020-01-08</td>\n",
       "      <td>0.0</td>\n",
       "      <td>2020</td>\n",
       "      <td>1</td>\n",
       "      <td>8</td>\n",
       "    </tr>\n",
       "    <tr>\n",
       "      <th>4</th>\n",
       "      <td>266748.0</td>\n",
       "      <td>Oceania</td>\n",
       "      <td>0</td>\n",
       "      <td>2020-01-09</td>\n",
       "      <td>0.0</td>\n",
       "      <td>2020</td>\n",
       "      <td>1</td>\n",
       "      <td>9</td>\n",
       "    </tr>\n",
       "  </tbody>\n",
       "</table>\n",
       "</div>"
      ],
      "text/plain": [
       "      index location  total_deaths       date  total_deaths_processed  year  \\\n",
       "0  266744.0  Oceania             0 2020-01-05                     0.0  2020   \n",
       "1  266745.0  Oceania             0 2020-01-06                     0.0  2020   \n",
       "2  266746.0  Oceania             0 2020-01-07                     0.0  2020   \n",
       "3  266747.0  Oceania             0 2020-01-08                     0.0  2020   \n",
       "4  266748.0  Oceania             0 2020-01-09                     0.0  2020   \n",
       "\n",
       "   month  day  \n",
       "0      1    5  \n",
       "1      1    6  \n",
       "2      1    7  \n",
       "3      1    8  \n",
       "4      1    9  "
      ]
     },
     "execution_count": 45,
     "metadata": {},
     "output_type": "execute_result"
    }
   ],
   "source": [
    "df_oceania_new['date'] = pd.to_datetime(df_oceania_new['date'].astype(str))\n",
    "df_oceania_new['year'] = df_oceania_new['date'].dt.year\n",
    "df_oceania_new['month'] = df_oceania_new['date'].dt.month\n",
    "df_oceania_new['day'] = df_oceania_new['date'].dt.day\n",
    "df_oceania_new.head()"
   ]
  },
  {
   "cell_type": "code",
   "execution_count": 46,
   "metadata": {},
   "outputs": [
    {
     "data": {
      "text/plain": [
       "0          0\n",
       "1          0\n",
       "2          0\n",
       "3          0\n",
       "4          0\n",
       "       ...  \n",
       "360    37427\n",
       "361    37439\n",
       "362    37451\n",
       "363    37463\n",
       "364    37475\n",
       "Name: total_deaths, Length: 1941, dtype: int32"
      ]
     },
     "execution_count": 46,
     "metadata": {},
     "output_type": "execute_result"
    }
   ],
   "source": [
    "df_oceania_new['total_deaths']=df_oceania_new['total_deaths'].astype('int') \n",
    "df_oceania_new['total_deaths']"
   ]
  },
  {
   "cell_type": "code",
   "execution_count": 47,
   "metadata": {},
   "outputs": [
    {
     "data": {
      "text/html": [
       "<div>\n",
       "<style scoped>\n",
       "    .dataframe tbody tr th:only-of-type {\n",
       "        vertical-align: middle;\n",
       "    }\n",
       "\n",
       "    .dataframe tbody tr th {\n",
       "        vertical-align: top;\n",
       "    }\n",
       "\n",
       "    .dataframe thead th {\n",
       "        text-align: right;\n",
       "    }\n",
       "</style>\n",
       "<table border=\"1\" class=\"dataframe\">\n",
       "  <thead>\n",
       "    <tr style=\"text-align: right;\">\n",
       "      <th></th>\n",
       "      <th>index</th>\n",
       "      <th>location</th>\n",
       "      <th>total_deaths</th>\n",
       "      <th>date</th>\n",
       "      <th>year</th>\n",
       "      <th>month</th>\n",
       "      <th>day</th>\n",
       "    </tr>\n",
       "  </thead>\n",
       "  <tbody>\n",
       "    <tr>\n",
       "      <th>0</th>\n",
       "      <td>0</td>\n",
       "      <td>Oceania</td>\n",
       "      <td>0</td>\n",
       "      <td>2020-01-05</td>\n",
       "      <td>2020</td>\n",
       "      <td>1</td>\n",
       "      <td>5</td>\n",
       "    </tr>\n",
       "    <tr>\n",
       "      <th>1</th>\n",
       "      <td>1</td>\n",
       "      <td>Oceania</td>\n",
       "      <td>0</td>\n",
       "      <td>2020-01-06</td>\n",
       "      <td>2020</td>\n",
       "      <td>1</td>\n",
       "      <td>6</td>\n",
       "    </tr>\n",
       "    <tr>\n",
       "      <th>2</th>\n",
       "      <td>2</td>\n",
       "      <td>Oceania</td>\n",
       "      <td>0</td>\n",
       "      <td>2020-01-07</td>\n",
       "      <td>2020</td>\n",
       "      <td>1</td>\n",
       "      <td>7</td>\n",
       "    </tr>\n",
       "    <tr>\n",
       "      <th>3</th>\n",
       "      <td>3</td>\n",
       "      <td>Oceania</td>\n",
       "      <td>0</td>\n",
       "      <td>2020-01-08</td>\n",
       "      <td>2020</td>\n",
       "      <td>1</td>\n",
       "      <td>8</td>\n",
       "    </tr>\n",
       "    <tr>\n",
       "      <th>4</th>\n",
       "      <td>4</td>\n",
       "      <td>Oceania</td>\n",
       "      <td>0</td>\n",
       "      <td>2020-01-09</td>\n",
       "      <td>2020</td>\n",
       "      <td>1</td>\n",
       "      <td>9</td>\n",
       "    </tr>\n",
       "  </tbody>\n",
       "</table>\n",
       "</div>"
      ],
      "text/plain": [
       "   index location  total_deaths       date  year  month  day\n",
       "0      0  Oceania             0 2020-01-05  2020      1    5\n",
       "1      1  Oceania             0 2020-01-06  2020      1    6\n",
       "2      2  Oceania             0 2020-01-07  2020      1    7\n",
       "3      3  Oceania             0 2020-01-08  2020      1    8\n",
       "4      4  Oceania             0 2020-01-09  2020      1    9"
      ]
     },
     "execution_count": 47,
     "metadata": {},
     "output_type": "execute_result"
    }
   ],
   "source": [
    "df_oceania_final = df_oceania_new[['location','total_deaths','date','year','month','day']].copy().reset_index()\n",
    "df_oceania_final.head()"
   ]
  },
  {
   "cell_type": "code",
   "execution_count": 48,
   "metadata": {},
   "outputs": [],
   "source": [
    "df_oceania_final.to_csv(r\"C:\\Users\\DELL\\OneDrive - VietNam National University - HCM INTERNATIONAL UNIVERSITY\\Desktop\\thesis\\Covid-19-report\\arima\\data_training\\oceania.csv\", index=False)"
   ]
  }
 ],
 "metadata": {
  "kernelspec": {
   "display_name": "Python 3",
   "language": "python",
   "name": "python3"
  },
  "language_info": {
   "codemirror_mode": {
    "name": "ipython",
    "version": 3
   },
   "file_extension": ".py",
   "mimetype": "text/x-python",
   "name": "python",
   "nbconvert_exporter": "python",
   "pygments_lexer": "ipython3",
   "version": "3.9.13"
  }
 },
 "nbformat": 4,
 "nbformat_minor": 2
}
