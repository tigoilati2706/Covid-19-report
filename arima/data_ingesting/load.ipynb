{
 "cells": [
  {
   "cell_type": "code",
   "execution_count": 1,
   "metadata": {},
   "outputs": [],
   "source": [
    "import pandas as pd "
   ]
  },
  {
   "cell_type": "code",
   "execution_count": 2,
   "metadata": {},
   "outputs": [],
   "source": [
    "ori_df = pd.read_csv('https://raw.githubusercontent.com/owid/covid-19-data/master/public/data/owid-covid-data.csv',encoding='unicode-escape')"
   ]
  },
  {
   "cell_type": "code",
   "execution_count": 3,
   "metadata": {},
   "outputs": [],
   "source": [
    "df = ori_df[['location','total_deaths','date']].copy()"
   ]
  },
  {
   "cell_type": "code",
   "execution_count": 4,
   "metadata": {},
   "outputs": [
    {
     "data": {
      "text/plain": [
       "<bound method NDFrame.head of            location  total_deaths        date\n",
       "0       Afghanistan           0.0  2020-01-05\n",
       "1       Afghanistan           0.0  2020-01-06\n",
       "2       Afghanistan           0.0  2020-01-07\n",
       "3       Afghanistan           0.0  2020-01-08\n",
       "4       Afghanistan           0.0  2020-01-09\n",
       "...             ...           ...         ...\n",
       "401003     Zimbabwe        5740.0  2024-05-08\n",
       "401004     Zimbabwe        5740.0  2024-05-09\n",
       "401005     Zimbabwe        5740.0  2024-05-10\n",
       "401006     Zimbabwe        5740.0  2024-05-11\n",
       "401007     Zimbabwe        5740.0  2024-05-12\n",
       "\n",
       "[401008 rows x 3 columns]>"
      ]
     },
     "execution_count": 4,
     "metadata": {},
     "output_type": "execute_result"
    }
   ],
   "source": [
    "df[\"total_deaths\"] = df[\"total_deaths\"].fillna(0)\n",
    "df.head"
   ]
  },
  {
   "cell_type": "code",
   "execution_count": 26,
   "metadata": {},
   "outputs": [],
   "source": [
    "asia=df.loc[df['location'] == 'Asia'].reset_index()\n",
    "africa=df.loc[df['location'] == 'Africa'].reset_index()\n",
    "europe=df.loc[df['location'] == 'Europe'].reset_index()\n",
    "north_america=df.loc[df['location'] == 'North America'].reset_index()\n",
    "oceania=df.loc[df['location'] == 'Oceania'].reset_index()\n",
    "south_America=df.loc[df['location'] == 'South America'].reset_index()"
   ]
  },
  {
   "cell_type": "code",
   "execution_count": 27,
   "metadata": {},
   "outputs": [],
   "source": [
    "new_df=pd.concat([asia,africa,europe,north_america,oceania,south_America]).reset_index().drop(columns='index')"
   ]
  },
  {
   "cell_type": "code",
   "execution_count": 28,
   "metadata": {},
   "outputs": [],
   "source": [
    "new_df['year']=pd.to_datetime(new_df['date']).dt.year\n",
    "new_df['month']=pd.to_datetime(new_df['date']).dt.month\n",
    "new_df['day']=pd.to_datetime(new_df['date']).dt.day"
   ]
  },
  {
   "cell_type": "code",
   "execution_count": 29,
   "metadata": {},
   "outputs": [],
   "source": [
    "new_df['date'] = pd.to_datetime(new_df['date'])\n",
    "dt_start = pd.to_datetime('2020-01-05')\n",
    "dt_end = pd.to_datetime('2024-04-28')\n",
    "\n",
    "new_df=new_df[new_df['date'].between(dt_start, dt_end)]"
   ]
  },
  {
   "cell_type": "code",
   "execution_count": 32,
   "metadata": {},
   "outputs": [],
   "source": [
    "new_df = new_df.drop(['level_0'], axis=1)"
   ]
  },
  {
   "cell_type": "code",
   "execution_count": 33,
   "metadata": {},
   "outputs": [],
   "source": [
    "new_df.to_csv('line_chart_ingesting.csv',index=False)"
   ]
  }
 ],
 "metadata": {
  "kernelspec": {
   "display_name": "Python 3",
   "language": "python",
   "name": "python3"
  },
  "language_info": {
   "codemirror_mode": {
    "name": "ipython",
    "version": 3
   },
   "file_extension": ".py",
   "mimetype": "text/x-python",
   "name": "python",
   "nbconvert_exporter": "python",
   "pygments_lexer": "ipython3",
   "version": "3.9.13"
  }
 },
 "nbformat": 4,
 "nbformat_minor": 2
}
