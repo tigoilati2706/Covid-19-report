{
 "cells": [
  {
   "cell_type": "code",
   "execution_count": 97,
   "metadata": {},
   "outputs": [],
   "source": [
    "import json\n",
    "\n",
    "import pandas as pd \n",
    "from prophet import Prophet\n"
   ]
  },
  {
   "cell_type": "code",
   "execution_count": 98,
   "metadata": {},
   "outputs": [],
   "source": [
    "ori_df = pd.read_csv('https://raw.githubusercontent.com/owid/covid-19-data/master/public/data/owid-covid-data.csv')\n",
    "ori_df.to_csv('ori.csv')"
   ]
  },
  {
   "cell_type": "code",
   "execution_count": 99,
   "metadata": {},
   "outputs": [],
   "source": [
    "df = ori_df[['location','total_deaths','date']].copy()"
   ]
  },
  {
   "cell_type": "code",
   "execution_count": 100,
   "metadata": {},
   "outputs": [
    {
     "data": {
      "text/plain": [
       "<bound method NDFrame.head of            location  total_deaths        date\n",
       "0       Afghanistan           0.0  2020-01-05\n",
       "1       Afghanistan           0.0  2020-01-06\n",
       "2       Afghanistan           0.0  2020-01-07\n",
       "3       Afghanistan           0.0  2020-01-08\n",
       "4       Afghanistan           0.0  2020-01-09\n",
       "...             ...           ...         ...\n",
       "401063     Zimbabwe        5740.0  2024-05-08\n",
       "401064     Zimbabwe        5740.0  2024-05-09\n",
       "401065     Zimbabwe        5740.0  2024-05-10\n",
       "401066     Zimbabwe        5740.0  2024-05-11\n",
       "401067     Zimbabwe        5740.0  2024-05-12\n",
       "\n",
       "[401068 rows x 3 columns]>"
      ]
     },
     "execution_count": 100,
     "metadata": {},
     "output_type": "execute_result"
    }
   ],
   "source": [
    "df[\"total_deaths\"] = df[\"total_deaths\"].fillna(0)\n",
    "df.head"
   ]
  },
  {
   "cell_type": "code",
   "execution_count": 101,
   "metadata": {},
   "outputs": [],
   "source": [
    "asia=df.loc[df['location'] == 'Asia'].reset_index()\n",
    "africa=df.loc[df['location'] == 'Africa']\n",
    "europe=df.loc[df['location'] == 'Europe']\n",
    "north_america=df.loc[df['location'] == 'North America']\n",
    "ocenania=df.loc[df['location'] == 'Ocenania']\n",
    "south_America=df.loc[df['location'] == 'South America']"
   ]
  },
  {
   "cell_type": "code",
   "execution_count": 102,
   "metadata": {},
   "outputs": [],
   "source": [
    "new_df=pd.concat([asia,africa,europe,north_america,ocenania,south_America]).reset_index().drop(columns='index')"
   ]
  },
  {
   "cell_type": "code",
   "execution_count": 103,
   "metadata": {},
   "outputs": [
    {
     "data": {
      "text/html": [
       "<div>\n",
       "<style scoped>\n",
       "    .dataframe tbody tr th:only-of-type {\n",
       "        vertical-align: middle;\n",
       "    }\n",
       "\n",
       "    .dataframe tbody tr th {\n",
       "        vertical-align: top;\n",
       "    }\n",
       "\n",
       "    .dataframe thead th {\n",
       "        text-align: right;\n",
       "    }\n",
       "</style>\n",
       "<table border=\"1\" class=\"dataframe\">\n",
       "  <thead>\n",
       "    <tr style=\"text-align: right;\">\n",
       "      <th></th>\n",
       "      <th>level_0</th>\n",
       "      <th>location</th>\n",
       "      <th>total_deaths</th>\n",
       "      <th>date</th>\n",
       "    </tr>\n",
       "  </thead>\n",
       "  <tbody>\n",
       "    <tr>\n",
       "      <th>7987</th>\n",
       "      <td>334883</td>\n",
       "      <td>South America</td>\n",
       "      <td>1354147.0</td>\n",
       "      <td>2024-05-08</td>\n",
       "    </tr>\n",
       "    <tr>\n",
       "      <th>7988</th>\n",
       "      <td>334884</td>\n",
       "      <td>South America</td>\n",
       "      <td>1354147.0</td>\n",
       "      <td>2024-05-09</td>\n",
       "    </tr>\n",
       "    <tr>\n",
       "      <th>7989</th>\n",
       "      <td>334885</td>\n",
       "      <td>South America</td>\n",
       "      <td>1354147.0</td>\n",
       "      <td>2024-05-10</td>\n",
       "    </tr>\n",
       "    <tr>\n",
       "      <th>7990</th>\n",
       "      <td>334886</td>\n",
       "      <td>South America</td>\n",
       "      <td>1354147.0</td>\n",
       "      <td>2024-05-11</td>\n",
       "    </tr>\n",
       "    <tr>\n",
       "      <th>7991</th>\n",
       "      <td>334887</td>\n",
       "      <td>South America</td>\n",
       "      <td>1354153.0</td>\n",
       "      <td>2024-05-12</td>\n",
       "    </tr>\n",
       "  </tbody>\n",
       "</table>\n",
       "</div>"
      ],
      "text/plain": [
       "      level_0       location  total_deaths        date\n",
       "7987   334883  South America     1354147.0  2024-05-08\n",
       "7988   334884  South America     1354147.0  2024-05-09\n",
       "7989   334885  South America     1354147.0  2024-05-10\n",
       "7990   334886  South America     1354147.0  2024-05-11\n",
       "7991   334887  South America     1354153.0  2024-05-12"
      ]
     },
     "execution_count": 103,
     "metadata": {},
     "output_type": "execute_result"
    }
   ],
   "source": [
    "new_df.tail()"
   ]
  },
  {
   "cell_type": "code",
   "execution_count": 104,
   "metadata": {},
   "outputs": [
    {
     "data": {
      "text/plain": [
       "0       2020-01-05\n",
       "1       2020-01-06\n",
       "2       2020-01-07\n",
       "3       2020-01-08\n",
       "4       2020-01-09\n",
       "           ...    \n",
       "7987    2024-05-08\n",
       "7988    2024-05-09\n",
       "7989    2024-05-10\n",
       "7990    2024-05-11\n",
       "7991    2024-05-12\n",
       "Name: date, Length: 7992, dtype: object"
      ]
     },
     "execution_count": 104,
     "metadata": {},
     "output_type": "execute_result"
    }
   ],
   "source": [
    "new_df['date']"
   ]
  },
  {
   "cell_type": "code",
   "execution_count": 105,
   "metadata": {},
   "outputs": [],
   "source": [
    "# new_df['year']=pd.to_datetime(new_df['date']).dt.year\n",
    "# new_df['month']=pd.to_datetime(new_df['date']).dt.month\n",
    "# new_df['day']=pd.to_datetime(new_df['date']).dt.day"
   ]
  },
  {
   "cell_type": "code",
   "execution_count": 106,
   "metadata": {},
   "outputs": [],
   "source": [
    "asia['date'] = pd.to_datetime(new_df['date'])\n",
    "dt_start = pd.to_datetime('2020-01-05')\n",
    "dt_end = pd.to_datetime('2024-04-28')\n",
    "\n",
    "asia=asia[asia['date'].between(dt_start, dt_end)]"
   ]
  },
  {
   "cell_type": "code",
   "execution_count": 107,
   "metadata": {},
   "outputs": [
    {
     "data": {
      "text/html": [
       "<div>\n",
       "<style scoped>\n",
       "    .dataframe tbody tr th:only-of-type {\n",
       "        vertical-align: middle;\n",
       "    }\n",
       "\n",
       "    .dataframe tbody tr th {\n",
       "        vertical-align: top;\n",
       "    }\n",
       "\n",
       "    .dataframe thead th {\n",
       "        text-align: right;\n",
       "    }\n",
       "</style>\n",
       "<table border=\"1\" class=\"dataframe\">\n",
       "  <thead>\n",
       "    <tr style=\"text-align: right;\">\n",
       "      <th></th>\n",
       "      <th>index</th>\n",
       "      <th>location</th>\n",
       "      <th>total_deaths</th>\n",
       "      <th>date</th>\n",
       "    </tr>\n",
       "  </thead>\n",
       "  <tbody>\n",
       "    <tr>\n",
       "      <th>1571</th>\n",
       "      <td>20655</td>\n",
       "      <td>Asia</td>\n",
       "      <td>1636932.0</td>\n",
       "      <td>2024-04-24</td>\n",
       "    </tr>\n",
       "    <tr>\n",
       "      <th>1572</th>\n",
       "      <td>20656</td>\n",
       "      <td>Asia</td>\n",
       "      <td>1636932.0</td>\n",
       "      <td>2024-04-25</td>\n",
       "    </tr>\n",
       "    <tr>\n",
       "      <th>1573</th>\n",
       "      <td>20657</td>\n",
       "      <td>Asia</td>\n",
       "      <td>1636932.0</td>\n",
       "      <td>2024-04-26</td>\n",
       "    </tr>\n",
       "    <tr>\n",
       "      <th>1574</th>\n",
       "      <td>20658</td>\n",
       "      <td>Asia</td>\n",
       "      <td>1636932.0</td>\n",
       "      <td>2024-04-27</td>\n",
       "    </tr>\n",
       "    <tr>\n",
       "      <th>1575</th>\n",
       "      <td>20659</td>\n",
       "      <td>Asia</td>\n",
       "      <td>1636953.0</td>\n",
       "      <td>2024-04-28</td>\n",
       "    </tr>\n",
       "  </tbody>\n",
       "</table>\n",
       "</div>"
      ],
      "text/plain": [
       "      index location  total_deaths       date\n",
       "1571  20655     Asia     1636932.0 2024-04-24\n",
       "1572  20656     Asia     1636932.0 2024-04-25\n",
       "1573  20657     Asia     1636932.0 2024-04-26\n",
       "1574  20658     Asia     1636932.0 2024-04-27\n",
       "1575  20659     Asia     1636953.0 2024-04-28"
      ]
     },
     "execution_count": 107,
     "metadata": {},
     "output_type": "execute_result"
    }
   ],
   "source": [
    "asia.tail()"
   ]
  },
  {
   "cell_type": "code",
   "execution_count": 108,
   "metadata": {},
   "outputs": [
    {
     "name": "stdout",
     "output_type": "stream",
     "text": [
      "<class 'pandas.core.frame.DataFrame'>\n",
      "Int64Index: 1576 entries, 0 to 1575\n",
      "Data columns (total 2 columns):\n",
      " #   Column  Non-Null Count  Dtype         \n",
      "---  ------  --------------  -----         \n",
      " 0   ds      1576 non-null   datetime64[ns]\n",
      " 1   y       1576 non-null   float64       \n",
      "dtypes: datetime64[ns](1), float64(1)\n",
      "memory usage: 36.9 KB\n"
     ]
    }
   ],
   "source": [
    "df_test = pd.DataFrame()\n",
    "df_test['ds'] = asia['date']\n",
    "df_test['y'] = asia['total_deaths']\n",
    "# df_test.set_index('ds', inplace=True)\n",
    "df_test.info()"
   ]
  },
  {
   "cell_type": "code",
   "execution_count": 109,
   "metadata": {},
   "outputs": [
    {
     "name": "stderr",
     "output_type": "stream",
     "text": [
      "19:30:43 - cmdstanpy - INFO - Chain [1] start processing\n",
      "19:30:45 - cmdstanpy - INFO - Chain [1] done processing\n"
     ]
    }
   ],
   "source": [
    "m = Prophet()\n",
    "m.fit(df_test)\n",
    "future = m.make_future_dataframe(periods=365)\n",
    "future.tail()\n",
    "forecast = m.predict(future)"
   ]
  },
  {
   "cell_type": "code",
   "execution_count": 110,
   "metadata": {},
   "outputs": [
    {
     "data": {
      "text/html": [
       "<div>\n",
       "<style scoped>\n",
       "    .dataframe tbody tr th:only-of-type {\n",
       "        vertical-align: middle;\n",
       "    }\n",
       "\n",
       "    .dataframe tbody tr th {\n",
       "        vertical-align: top;\n",
       "    }\n",
       "\n",
       "    .dataframe thead th {\n",
       "        text-align: right;\n",
       "    }\n",
       "</style>\n",
       "<table border=\"1\" class=\"dataframe\">\n",
       "  <thead>\n",
       "    <tr style=\"text-align: right;\">\n",
       "      <th></th>\n",
       "      <th>ds</th>\n",
       "      <th>trend</th>\n",
       "      <th>yhat_lower</th>\n",
       "      <th>yhat_upper</th>\n",
       "      <th>trend_lower</th>\n",
       "      <th>trend_upper</th>\n",
       "      <th>additive_terms</th>\n",
       "      <th>additive_terms_lower</th>\n",
       "      <th>additive_terms_upper</th>\n",
       "      <th>weekly</th>\n",
       "      <th>weekly_lower</th>\n",
       "      <th>weekly_upper</th>\n",
       "      <th>yearly</th>\n",
       "      <th>yearly_lower</th>\n",
       "      <th>yearly_upper</th>\n",
       "      <th>multiplicative_terms</th>\n",
       "      <th>multiplicative_terms_lower</th>\n",
       "      <th>multiplicative_terms_upper</th>\n",
       "      <th>yhat</th>\n",
       "    </tr>\n",
       "  </thead>\n",
       "  <tbody>\n",
       "    <tr>\n",
       "      <th>1936</th>\n",
       "      <td>2025-04-24</td>\n",
       "      <td>1.660992e+06</td>\n",
       "      <td>1.130564e+06</td>\n",
       "      <td>2.182072e+06</td>\n",
       "      <td>1.141272e+06</td>\n",
       "      <td>2.188848e+06</td>\n",
       "      <td>-10313.378540</td>\n",
       "      <td>-10313.378540</td>\n",
       "      <td>-10313.378540</td>\n",
       "      <td>-1038.330747</td>\n",
       "      <td>-1038.330747</td>\n",
       "      <td>-1038.330747</td>\n",
       "      <td>-9275.047793</td>\n",
       "      <td>-9275.047793</td>\n",
       "      <td>-9275.047793</td>\n",
       "      <td>0.0</td>\n",
       "      <td>0.0</td>\n",
       "      <td>0.0</td>\n",
       "      <td>1650679</td>\n",
       "    </tr>\n",
       "    <tr>\n",
       "      <th>1937</th>\n",
       "      <td>2025-04-25</td>\n",
       "      <td>1.661043e+06</td>\n",
       "      <td>1.127792e+06</td>\n",
       "      <td>2.185816e+06</td>\n",
       "      <td>1.138590e+06</td>\n",
       "      <td>2.192764e+06</td>\n",
       "      <td>-11384.130544</td>\n",
       "      <td>-11384.130544</td>\n",
       "      <td>-11384.130544</td>\n",
       "      <td>-2063.666077</td>\n",
       "      <td>-2063.666077</td>\n",
       "      <td>-2063.666077</td>\n",
       "      <td>-9320.464466</td>\n",
       "      <td>-9320.464466</td>\n",
       "      <td>-9320.464466</td>\n",
       "      <td>0.0</td>\n",
       "      <td>0.0</td>\n",
       "      <td>0.0</td>\n",
       "      <td>1649658</td>\n",
       "    </tr>\n",
       "    <tr>\n",
       "      <th>1938</th>\n",
       "      <td>2025-04-26</td>\n",
       "      <td>1.661094e+06</td>\n",
       "      <td>1.120585e+06</td>\n",
       "      <td>2.182738e+06</td>\n",
       "      <td>1.135364e+06</td>\n",
       "      <td>2.196566e+06</td>\n",
       "      <td>-12424.988443</td>\n",
       "      <td>-12424.988443</td>\n",
       "      <td>-12424.988443</td>\n",
       "      <td>-3102.805802</td>\n",
       "      <td>-3102.805802</td>\n",
       "      <td>-3102.805802</td>\n",
       "      <td>-9322.182641</td>\n",
       "      <td>-9322.182641</td>\n",
       "      <td>-9322.182641</td>\n",
       "      <td>0.0</td>\n",
       "      <td>0.0</td>\n",
       "      <td>0.0</td>\n",
       "      <td>1648668</td>\n",
       "    </tr>\n",
       "    <tr>\n",
       "      <th>1939</th>\n",
       "      <td>2025-04-27</td>\n",
       "      <td>1.661144e+06</td>\n",
       "      <td>1.127440e+06</td>\n",
       "      <td>2.190561e+06</td>\n",
       "      <td>1.133927e+06</td>\n",
       "      <td>2.199027e+06</td>\n",
       "      <td>-6163.569610</td>\n",
       "      <td>-6163.569610</td>\n",
       "      <td>-6163.569610</td>\n",
       "      <td>3117.338638</td>\n",
       "      <td>3117.338638</td>\n",
       "      <td>3117.338638</td>\n",
       "      <td>-9280.908248</td>\n",
       "      <td>-9280.908248</td>\n",
       "      <td>-9280.908248</td>\n",
       "      <td>0.0</td>\n",
       "      <td>0.0</td>\n",
       "      <td>0.0</td>\n",
       "      <td>1654980</td>\n",
       "    </tr>\n",
       "    <tr>\n",
       "      <th>1940</th>\n",
       "      <td>2025-04-28</td>\n",
       "      <td>1.661195e+06</td>\n",
       "      <td>1.127556e+06</td>\n",
       "      <td>2.194352e+06</td>\n",
       "      <td>1.132633e+06</td>\n",
       "      <td>2.201728e+06</td>\n",
       "      <td>-7126.764943</td>\n",
       "      <td>-7126.764943</td>\n",
       "      <td>-7126.764943</td>\n",
       "      <td>2070.983249</td>\n",
       "      <td>2070.983249</td>\n",
       "      <td>2070.983249</td>\n",
       "      <td>-9197.748193</td>\n",
       "      <td>-9197.748193</td>\n",
       "      <td>-9197.748193</td>\n",
       "      <td>0.0</td>\n",
       "      <td>0.0</td>\n",
       "      <td>0.0</td>\n",
       "      <td>1654068</td>\n",
       "    </tr>\n",
       "  </tbody>\n",
       "</table>\n",
       "</div>"
      ],
      "text/plain": [
       "             ds         trend    yhat_lower    yhat_upper   trend_lower  \\\n",
       "1936 2025-04-24  1.660992e+06  1.130564e+06  2.182072e+06  1.141272e+06   \n",
       "1937 2025-04-25  1.661043e+06  1.127792e+06  2.185816e+06  1.138590e+06   \n",
       "1938 2025-04-26  1.661094e+06  1.120585e+06  2.182738e+06  1.135364e+06   \n",
       "1939 2025-04-27  1.661144e+06  1.127440e+06  2.190561e+06  1.133927e+06   \n",
       "1940 2025-04-28  1.661195e+06  1.127556e+06  2.194352e+06  1.132633e+06   \n",
       "\n",
       "       trend_upper  additive_terms  additive_terms_lower  \\\n",
       "1936  2.188848e+06   -10313.378540         -10313.378540   \n",
       "1937  2.192764e+06   -11384.130544         -11384.130544   \n",
       "1938  2.196566e+06   -12424.988443         -12424.988443   \n",
       "1939  2.199027e+06    -6163.569610          -6163.569610   \n",
       "1940  2.201728e+06    -7126.764943          -7126.764943   \n",
       "\n",
       "      additive_terms_upper       weekly  weekly_lower  weekly_upper  \\\n",
       "1936         -10313.378540 -1038.330747  -1038.330747  -1038.330747   \n",
       "1937         -11384.130544 -2063.666077  -2063.666077  -2063.666077   \n",
       "1938         -12424.988443 -3102.805802  -3102.805802  -3102.805802   \n",
       "1939          -6163.569610  3117.338638   3117.338638   3117.338638   \n",
       "1940          -7126.764943  2070.983249   2070.983249   2070.983249   \n",
       "\n",
       "           yearly  yearly_lower  yearly_upper  multiplicative_terms  \\\n",
       "1936 -9275.047793  -9275.047793  -9275.047793                   0.0   \n",
       "1937 -9320.464466  -9320.464466  -9320.464466                   0.0   \n",
       "1938 -9322.182641  -9322.182641  -9322.182641                   0.0   \n",
       "1939 -9280.908248  -9280.908248  -9280.908248                   0.0   \n",
       "1940 -9197.748193  -9197.748193  -9197.748193                   0.0   \n",
       "\n",
       "      multiplicative_terms_lower  multiplicative_terms_upper     yhat  \n",
       "1936                         0.0                         0.0  1650679  \n",
       "1937                         0.0                         0.0  1649658  \n",
       "1938                         0.0                         0.0  1648668  \n",
       "1939                         0.0                         0.0  1654980  \n",
       "1940                         0.0                         0.0  1654068  "
      ]
     },
     "execution_count": 110,
     "metadata": {},
     "output_type": "execute_result"
    }
   ],
   "source": [
    "forecast['yhat']=forecast['yhat'].astype('int') \n",
    "forecast.tail()"
   ]
  }
 ],
 "metadata": {
  "kernelspec": {
   "display_name": "Python 3",
   "language": "python",
   "name": "python3"
  },
  "language_info": {
   "codemirror_mode": {
    "name": "ipython",
    "version": 3
   },
   "file_extension": ".py",
   "mimetype": "text/x-python",
   "name": "python",
   "nbconvert_exporter": "python",
   "pygments_lexer": "ipython3",
   "version": "3.9.13"
  }
 },
 "nbformat": 4,
 "nbformat_minor": 2
}
