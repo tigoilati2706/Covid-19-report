{
 "cells": [
  {
   "cell_type": "code",
   "execution_count": 20,
   "metadata": {},
   "outputs": [],
   "source": [
    "import json\n",
    "\n",
    "import math\n",
    "import pandas as pd \n",
    "from statsmodels.tsa.arima.model import ARIMA\n",
    "from sklearn.metrics import mean_squared_error, mean_absolute_error\n",
    "from tqdm.notebook import trange"
   ]
  },
  {
   "cell_type": "code",
   "execution_count": 21,
   "metadata": {},
   "outputs": [],
   "source": [
    "ori_df = pd.read_csv('https://raw.githubusercontent.com/owid/covid-19-data/master/public/data/owid-covid-data.csv')"
   ]
  },
  {
   "cell_type": "code",
   "execution_count": 22,
   "metadata": {},
   "outputs": [],
   "source": [
    "df = ori_df[['location','total_cases','date']].copy()"
   ]
  },
  {
   "cell_type": "code",
   "execution_count": 23,
   "metadata": {},
   "outputs": [
    {
     "data": {
      "text/plain": [
       "<bound method NDFrame.head of            location  total_cases        date\n",
       "0       Afghanistan          0.0  2020-01-05\n",
       "1       Afghanistan          0.0  2020-01-06\n",
       "2       Afghanistan          0.0  2020-01-07\n",
       "3       Afghanistan          0.0  2020-01-08\n",
       "4       Afghanistan          0.0  2020-01-09\n",
       "...             ...          ...         ...\n",
       "402698     Zimbabwe     266362.0  2024-05-15\n",
       "402699     Zimbabwe     266362.0  2024-05-16\n",
       "402700     Zimbabwe     266362.0  2024-05-17\n",
       "402701     Zimbabwe     266362.0  2024-05-18\n",
       "402702     Zimbabwe     266362.0  2024-05-19\n",
       "\n",
       "[402703 rows x 3 columns]>"
      ]
     },
     "execution_count": 23,
     "metadata": {},
     "output_type": "execute_result"
    }
   ],
   "source": [
    "df[\"total_cases\"] = df[\"total_cases\"].fillna(0)\n",
    "df.head"
   ]
  },
  {
   "cell_type": "code",
   "execution_count": 24,
   "metadata": {},
   "outputs": [],
   "source": [
    "asia=df.loc[df['location'] == 'Asia']\n",
    "africa=df.loc[df['location'] == 'Africa'].reset_index()\n",
    "europe=df.loc[df['location'] == 'Europe']\n",
    "north_america=df.loc[df['location'] == 'North America']\n",
    "Oceania=df.loc[df['location'] == 'Oceania']\n",
    "south_America=df.loc[df['location'] == 'South America']"
   ]
  },
  {
   "cell_type": "code",
   "execution_count": 25,
   "metadata": {},
   "outputs": [],
   "source": [
    "new_df=pd.concat([asia,africa,europe,north_america,Oceania,south_America]).reset_index().drop(columns='index')"
   ]
  },
  {
   "cell_type": "code",
   "execution_count": 26,
   "metadata": {},
   "outputs": [
    {
     "data": {
      "text/html": [
       "<div>\n",
       "<style scoped>\n",
       "    .dataframe tbody tr th:only-of-type {\n",
       "        vertical-align: middle;\n",
       "    }\n",
       "\n",
       "    .dataframe tbody tr th {\n",
       "        vertical-align: top;\n",
       "    }\n",
       "\n",
       "    .dataframe thead th {\n",
       "        text-align: right;\n",
       "    }\n",
       "</style>\n",
       "<table border=\"1\" class=\"dataframe\">\n",
       "  <thead>\n",
       "    <tr style=\"text-align: right;\">\n",
       "      <th></th>\n",
       "      <th>level_0</th>\n",
       "      <th>location</th>\n",
       "      <th>total_cases</th>\n",
       "      <th>date</th>\n",
       "    </tr>\n",
       "  </thead>\n",
       "  <tbody>\n",
       "    <tr>\n",
       "      <th>0</th>\n",
       "      <td>19168</td>\n",
       "      <td>Asia</td>\n",
       "      <td>1.0</td>\n",
       "      <td>2020-01-05</td>\n",
       "    </tr>\n",
       "    <tr>\n",
       "      <th>1</th>\n",
       "      <td>19169</td>\n",
       "      <td>Asia</td>\n",
       "      <td>1.0</td>\n",
       "      <td>2020-01-06</td>\n",
       "    </tr>\n",
       "    <tr>\n",
       "      <th>2</th>\n",
       "      <td>19170</td>\n",
       "      <td>Asia</td>\n",
       "      <td>1.0</td>\n",
       "      <td>2020-01-07</td>\n",
       "    </tr>\n",
       "    <tr>\n",
       "      <th>3</th>\n",
       "      <td>19171</td>\n",
       "      <td>Asia</td>\n",
       "      <td>1.0</td>\n",
       "      <td>2020-01-08</td>\n",
       "    </tr>\n",
       "    <tr>\n",
       "      <th>4</th>\n",
       "      <td>19172</td>\n",
       "      <td>Asia</td>\n",
       "      <td>1.0</td>\n",
       "      <td>2020-01-09</td>\n",
       "    </tr>\n",
       "  </tbody>\n",
       "</table>\n",
       "</div>"
      ],
      "text/plain": [
       "   level_0 location  total_cases        date\n",
       "0    19168     Asia          1.0  2020-01-05\n",
       "1    19169     Asia          1.0  2020-01-06\n",
       "2    19170     Asia          1.0  2020-01-07\n",
       "3    19171     Asia          1.0  2020-01-08\n",
       "4    19172     Asia          1.0  2020-01-09"
      ]
     },
     "execution_count": 26,
     "metadata": {},
     "output_type": "execute_result"
    }
   ],
   "source": [
    "new_df.head()"
   ]
  },
  {
   "cell_type": "code",
   "execution_count": 27,
   "metadata": {},
   "outputs": [
    {
     "data": {
      "text/plain": [
       "0       2020-01-05\n",
       "1       2020-01-06\n",
       "2       2020-01-07\n",
       "3       2020-01-08\n",
       "4       2020-01-09\n",
       "           ...    \n",
       "9612    2024-05-15\n",
       "9613    2024-05-16\n",
       "9614    2024-05-17\n",
       "9615    2024-05-18\n",
       "9616    2024-05-19\n",
       "Name: date, Length: 9617, dtype: object"
      ]
     },
     "execution_count": 27,
     "metadata": {},
     "output_type": "execute_result"
    }
   ],
   "source": [
    "new_df['date']"
   ]
  },
  {
   "cell_type": "code",
   "execution_count": 28,
   "metadata": {},
   "outputs": [],
   "source": [
    "new_df['year']=pd.to_datetime(new_df['date']).dt.year\n",
    "new_df['month']=pd.to_datetime(new_df['date']).dt.month\n",
    "new_df['day']=pd.to_datetime(new_df['date']).dt.day"
   ]
  },
  {
   "cell_type": "code",
   "execution_count": 29,
   "metadata": {},
   "outputs": [
    {
     "name": "stderr",
     "output_type": "stream",
     "text": [
      "C:\\Users\\DELL\\AppData\\Local\\Temp\\ipykernel_19200\\279288980.py:1: SettingWithCopyWarning: \n",
      "A value is trying to be set on a copy of a slice from a DataFrame.\n",
      "Try using .loc[row_indexer,col_indexer] = value instead\n",
      "\n",
      "See the caveats in the documentation: https://pandas.pydata.org/pandas-docs/stable/user_guide/indexing.html#returning-a-view-versus-a-copy\n",
      "  asia['date'] = pd.to_datetime(df['date'])\n"
     ]
    }
   ],
   "source": [
    "asia['date'] = pd.to_datetime(new_df['date'])\n",
    "dt_start = pd.to_datetime('2020-01-05')\n",
    "dt_end = pd.to_datetime('2024-04-28')\n",
    "\n",
    "asia=asia[asia['date'].between(dt_start, dt_end)]"
   ]
  },
  {
   "cell_type": "code",
   "execution_count": 30,
   "metadata": {},
   "outputs": [
    {
     "data": {
      "text/html": [
       "<div>\n",
       "<style scoped>\n",
       "    .dataframe tbody tr th:only-of-type {\n",
       "        vertical-align: middle;\n",
       "    }\n",
       "\n",
       "    .dataframe tbody tr th {\n",
       "        vertical-align: top;\n",
       "    }\n",
       "\n",
       "    .dataframe thead th {\n",
       "        text-align: right;\n",
       "    }\n",
       "</style>\n",
       "<table border=\"1\" class=\"dataframe\">\n",
       "  <thead>\n",
       "    <tr style=\"text-align: right;\">\n",
       "      <th></th>\n",
       "      <th>location</th>\n",
       "      <th>total_cases</th>\n",
       "      <th>date</th>\n",
       "    </tr>\n",
       "  </thead>\n",
       "  <tbody>\n",
       "    <tr>\n",
       "      <th>19168</th>\n",
       "      <td>Asia</td>\n",
       "      <td>1.0</td>\n",
       "      <td>2020-01-05</td>\n",
       "    </tr>\n",
       "    <tr>\n",
       "      <th>19169</th>\n",
       "      <td>Asia</td>\n",
       "      <td>1.0</td>\n",
       "      <td>2020-01-06</td>\n",
       "    </tr>\n",
       "    <tr>\n",
       "      <th>19170</th>\n",
       "      <td>Asia</td>\n",
       "      <td>1.0</td>\n",
       "      <td>2020-01-07</td>\n",
       "    </tr>\n",
       "    <tr>\n",
       "      <th>19171</th>\n",
       "      <td>Asia</td>\n",
       "      <td>1.0</td>\n",
       "      <td>2020-01-08</td>\n",
       "    </tr>\n",
       "    <tr>\n",
       "      <th>19172</th>\n",
       "      <td>Asia</td>\n",
       "      <td>1.0</td>\n",
       "      <td>2020-01-09</td>\n",
       "    </tr>\n",
       "    <tr>\n",
       "      <th>...</th>\n",
       "      <td>...</td>\n",
       "      <td>...</td>\n",
       "      <td>...</td>\n",
       "    </tr>\n",
       "    <tr>\n",
       "      <th>20739</th>\n",
       "      <td>Asia</td>\n",
       "      <td>301406232.0</td>\n",
       "      <td>2024-04-24</td>\n",
       "    </tr>\n",
       "    <tr>\n",
       "      <th>20740</th>\n",
       "      <td>Asia</td>\n",
       "      <td>301406232.0</td>\n",
       "      <td>2024-04-25</td>\n",
       "    </tr>\n",
       "    <tr>\n",
       "      <th>20741</th>\n",
       "      <td>Asia</td>\n",
       "      <td>301406232.0</td>\n",
       "      <td>2024-04-26</td>\n",
       "    </tr>\n",
       "    <tr>\n",
       "      <th>20742</th>\n",
       "      <td>Asia</td>\n",
       "      <td>301406232.0</td>\n",
       "      <td>2024-04-27</td>\n",
       "    </tr>\n",
       "    <tr>\n",
       "      <th>20743</th>\n",
       "      <td>Asia</td>\n",
       "      <td>301411487.0</td>\n",
       "      <td>2024-04-28</td>\n",
       "    </tr>\n",
       "  </tbody>\n",
       "</table>\n",
       "<p>1576 rows × 3 columns</p>\n",
       "</div>"
      ],
      "text/plain": [
       "      location  total_cases       date\n",
       "19168     Asia          1.0 2020-01-05\n",
       "19169     Asia          1.0 2020-01-06\n",
       "19170     Asia          1.0 2020-01-07\n",
       "19171     Asia          1.0 2020-01-08\n",
       "19172     Asia          1.0 2020-01-09\n",
       "...        ...          ...        ...\n",
       "20739     Asia  301406232.0 2024-04-24\n",
       "20740     Asia  301406232.0 2024-04-25\n",
       "20741     Asia  301406232.0 2024-04-26\n",
       "20742     Asia  301406232.0 2024-04-27\n",
       "20743     Asia  301411487.0 2024-04-28\n",
       "\n",
       "[1576 rows x 3 columns]"
      ]
     },
     "execution_count": 30,
     "metadata": {},
     "output_type": "execute_result"
    }
   ],
   "source": [
    "asia"
   ]
  },
  {
   "cell_type": "markdown",
   "metadata": {},
   "source": [
    "## Start predicting next 5 days"
   ]
  },
  {
   "cell_type": "code",
   "execution_count": 31,
   "metadata": {},
   "outputs": [],
   "source": [
    "# df_test = pd.DataFrame()\n",
    "# df_test['ds'] = asia['date']\n",
    "# df_test['y'] = asia['total_cases'].astype(int)\n",
    "# # df_test.set_index('ds', inplace=True)\n",
    "# df_test.info()"
   ]
  },
  {
   "cell_type": "code",
   "execution_count": 32,
   "metadata": {},
   "outputs": [],
   "source": [
    "# from prophet import Prophet\n",
    "# m = Prophet()\n",
    "# m.fit(df_test)\n",
    "# future = m.make_future_dataframe(periods=365)\n",
    "# future.tail()\n",
    "# forecast = m.predict(future)\n",
    "\n",
    "# forecast[['date', 'yhat', 'yhat_lower', 'yhat_upper']].tail()"
   ]
  },
  {
   "cell_type": "code",
   "execution_count": 33,
   "metadata": {},
   "outputs": [],
   "source": [
    "# forecast['yhat']=forecast['yhat'].astype('int') \n",
    "# forecast.tail()"
   ]
  },
  {
   "cell_type": "code",
   "execution_count": 34,
   "metadata": {},
   "outputs": [],
   "source": [
    "# forecast.head()"
   ]
  },
  {
   "cell_type": "code",
   "execution_count": 35,
   "metadata": {},
   "outputs": [],
   "source": [
    "# asia_new = pd.DataFrame()"
   ]
  },
  {
   "cell_type": "code",
   "execution_count": 36,
   "metadata": {},
   "outputs": [],
   "source": [
    "# asia_new['date']=forecast['ds']\n",
    "# asia_new['total_case']=forecast['yhat'].astype(int)\n",
    "# asia_new"
   ]
  },
  {
   "cell_type": "code",
   "execution_count": 37,
   "metadata": {},
   "outputs": [],
   "source": [
    "# asia_new.insert(0, 'location', 'asia')\n",
    "# asia_new"
   ]
  },
  {
   "cell_type": "code",
   "execution_count": 38,
   "metadata": {},
   "outputs": [],
   "source": [
    "asia.to_csv('asia_ph.csv')"
   ]
  }
 ],
 "metadata": {
  "kernelspec": {
   "display_name": "Python 3",
   "language": "python",
   "name": "python3"
  },
  "language_info": {
   "codemirror_mode": {
    "name": "ipython",
    "version": 3
   },
   "file_extension": ".py",
   "mimetype": "text/x-python",
   "name": "python",
   "nbconvert_exporter": "python",
   "pygments_lexer": "ipython3",
   "version": "3.9.13"
  }
 },
 "nbformat": 4,
 "nbformat_minor": 2
}
