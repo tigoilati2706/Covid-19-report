{
 "cells": [
  {
   "cell_type": "code",
   "execution_count": 44,
   "metadata": {},
   "outputs": [],
   "source": [
    "import pandas as pd\n",
    "import os"
   ]
  },
  {
   "cell_type": "code",
   "execution_count": 50,
   "metadata": {},
   "outputs": [],
   "source": [
    "path = 'C:/Users/DELL/OneDrive - VietNam National University - HCM INTERNATIONAL UNIVERSITY/Desktop/thesis/Covid-19-report/arima/data_training/'\n",
    "dataframe = pd.read_csv(path + 'africa.csv')\n",
    "frames = []\n",
    "filepaths = []\n",
    "for file in os.listdir(path):\n",
    "    if file.endswith('.csv'):\n",
    "        filepath = path + file\n",
    "        df1 = pd.read_csv(filepath)\n",
    "        frames.append(df1) \n",
    "        result =pd.concat(frames)\n",
    "\n",
    "df = result.drop(['index'], axis=1)\n",
    "df.to_csv('line_chart_trained.csv',index=False)"
   ]
  },
  {
   "cell_type": "code",
   "execution_count": 49,
   "metadata": {},
   "outputs": [
    {
     "data": {
      "text/plain": [
       "0             0\n",
       "1             0\n",
       "2             0\n",
       "3             0\n",
       "4             0\n",
       "         ...   \n",
       "1936    1355880\n",
       "1937    1355885\n",
       "1938    1355890\n",
       "1939    1355895\n",
       "1940    1355900\n",
       "Name: total_deaths, Length: 9853, dtype: int64"
      ]
     },
     "execution_count": 49,
     "metadata": {},
     "output_type": "execute_result"
    }
   ],
   "source": [
    "df['total_deaths']"
   ]
  }
 ],
 "metadata": {
  "kernelspec": {
   "display_name": "Python 3",
   "language": "python",
   "name": "python3"
  },
  "language_info": {
   "codemirror_mode": {
    "name": "ipython",
    "version": 3
   },
   "file_extension": ".py",
   "mimetype": "text/x-python",
   "name": "python",
   "nbconvert_exporter": "python",
   "pygments_lexer": "ipython3",
   "version": "3.9.13"
  }
 },
 "nbformat": 4,
 "nbformat_minor": 2
}
